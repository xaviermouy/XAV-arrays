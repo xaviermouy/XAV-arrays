{
 "cells": [
  {
   "cell_type": "code",
   "execution_count": 1,
   "id": "ebdb631d",
   "metadata": {},
   "outputs": [
    {
     "ename": "ModuleNotFoundError",
     "evalue": "No module named 'localizationlib'",
     "output_type": "error",
     "traceback": [
      "\u001b[1;31m---------------------------------------------------------------------------\u001b[0m",
      "\u001b[1;31mModuleNotFoundError\u001b[0m                       Traceback (most recent call last)",
      "\u001b[1;32m~\\AppData\\Local\\Temp\\ipykernel_23088\\1449562498.py\u001b[0m in \u001b[0;36m<cell line: 21>\u001b[1;34m()\u001b[0m\n\u001b[0;32m     19\u001b[0m \u001b[1;32mimport\u001b[0m \u001b[0mecosound\u001b[0m\u001b[1;33m.\u001b[0m\u001b[0mcore\u001b[0m\u001b[1;33m.\u001b[0m\u001b[0mtools\u001b[0m\u001b[1;33m\u001b[0m\u001b[1;33m\u001b[0m\u001b[0m\n\u001b[0;32m     20\u001b[0m \u001b[1;32mfrom\u001b[0m \u001b[0mecosound\u001b[0m\u001b[1;33m.\u001b[0m\u001b[0mcore\u001b[0m\u001b[1;33m.\u001b[0m\u001b[0mtools\u001b[0m \u001b[1;32mimport\u001b[0m \u001b[0mderivative_1d\u001b[0m\u001b[1;33m,\u001b[0m \u001b[0menvelope\u001b[0m\u001b[1;33m,\u001b[0m \u001b[0mread_yaml\u001b[0m\u001b[1;33m\u001b[0m\u001b[1;33m\u001b[0m\u001b[0m\n\u001b[1;32m---> 21\u001b[1;33m \u001b[1;32mfrom\u001b[0m \u001b[0mlocalizationlib\u001b[0m \u001b[1;32mimport\u001b[0m \u001b[0meuclidean_dist\u001b[0m\u001b[1;33m,\u001b[0m \u001b[0mcalc_hydrophones_distances\u001b[0m\u001b[1;33m,\u001b[0m \u001b[0mcalc_tdoa\u001b[0m\u001b[1;33m,\u001b[0m \u001b[0mdefineReceiverPairs\u001b[0m\u001b[1;33m,\u001b[0m \u001b[0mdefineJacobian\u001b[0m\u001b[1;33m,\u001b[0m \u001b[0mpredict_tdoa\u001b[0m\u001b[1;33m,\u001b[0m \u001b[0mlinearized_inversion\u001b[0m\u001b[1;33m,\u001b[0m \u001b[0msolve_iterative_ML\u001b[0m\u001b[1;33m,\u001b[0m \u001b[0mdefineCubeVolumeGrid\u001b[0m\u001b[1;33m,\u001b[0m \u001b[0mdefineSphereVolumeGrid\u001b[0m\u001b[1;33m\u001b[0m\u001b[1;33m\u001b[0m\u001b[0m\n\u001b[0m\u001b[0;32m     22\u001b[0m \u001b[1;32mimport\u001b[0m \u001b[0mplatform\u001b[0m\u001b[1;33m\u001b[0m\u001b[1;33m\u001b[0m\u001b[0m\n",
      "\u001b[1;31mModuleNotFoundError\u001b[0m: No module named 'localizationlib'"
     ]
    }
   ],
   "source": [
    "import os\n",
    "import sys\n",
    "sys.path.append(r'C:\\Users\\xavier.mouy\\Documents\\GitHub\\ecosound') # Adds higher directory to python modules path.\n",
    "\n",
    "import pandas as pd\n",
    "import matplotlib.pyplot as plt\n",
    "import mpl_toolkits.mplot3d\n",
    "import matplotlib.cm\n",
    "#import scipy.spatial\n",
    "import numpy as np\n",
    "import datetime\n",
    "import math\n",
    "\n",
    "from ecosound.core.audiotools import Sound, upsample\n",
    "from ecosound.core.spectrogram import Spectrogram\n",
    "from ecosound.core.measurement import Measurement\n",
    "from ecosound.detection.detector_builder import DetectorFactory\n",
    "from ecosound.visualization.grapher_builder import GrapherFactory\n",
    "import ecosound.core.tools\n",
    "from ecosound.core.tools import derivative_1d, envelope, read_yaml\n",
    "from localizationlib import euclidean_dist, calc_hydrophones_distances, calc_tdoa, defineReceiverPairs, defineJacobian, predict_tdoa, linearized_inversion, solve_iterative_ML, defineCubeVolumeGrid, defineSphereVolumeGrid\n",
    "import platform"
   ]
  },
  {
   "cell_type": "code",
   "execution_count": null,
   "id": "3484b592",
   "metadata": {},
   "outputs": [],
   "source": [
    "def plot_data(audio_files,frame, window_type, nfft, step, fmin, fmax, chunk = None, detections=None, detections_channel=0):\n",
    "    graph_spectros = GrapherFactory('SoundPlotter', title='Spectrograms', frequency_max=fmax)\n",
    "    graph_waveforms = GrapherFactory('SoundPlotter', title='Waveforms')\n",
    "    for audio_file, channel in zip(audio_files['path'], audio_files['channel'] ): # for each channel\n",
    "        # load waveform\n",
    "        sound = Sound(audio_file)\n",
    "        sound.read(channel=channel, chunk=chunk, unit='sec', detrend=True)\n",
    "        # Calculates  spectrogram\n",
    "        spectro = Spectrogram(frame, window_type, nfft, step, sound.waveform_sampling_frequency, unit='sec')\n",
    "        spectro.compute(sound, dB=True, use_dask=False)\n",
    "        # Crop unused frequencies\n",
    "        spectro.crop(frequency_min=fmin, frequency_max=fmax, inplace=True)\n",
    "        # Plot\n",
    "        graph_spectros.add_data(spectro, time_offset_sec=chunk[0])\n",
    "        graph_waveforms.add_data(sound, time_offset_sec=chunk[0])\n",
    "\n",
    "    graph_spectros.colormap = 'binary'\n",
    "    if detections:\n",
    "        graph_spectros.add_annotation(detections, panel=detections_channel, color='green',label='Detections')\n",
    "        graph_waveforms.add_annotation(detections, panel=detections_channel, color='green',label='Detections')\n",
    "\n",
    "    if chunk:\n",
    "        graph_spectros.time_min = chunk[0]\n",
    "        graph_spectros.time_max = chunk[1]\n",
    "        graph_waveforms.time_min = chunk[0]\n",
    "        graph_waveforms.time_max = chunk[1]\n",
    "\n",
    "    graph_spectros.show()\n",
    "    graph_waveforms.show()\n"
   ]
  }
 ],
 "metadata": {
  "kernelspec": {
   "display_name": "Python 3 (ipykernel)",
   "language": "python",
   "name": "python3"
  },
  "language_info": {
   "codemirror_mode": {
    "name": "ipython",
    "version": 3
   },
   "file_extension": ".py",
   "mimetype": "text/x-python",
   "name": "python",
   "nbconvert_exporter": "python",
   "pygments_lexer": "ipython3",
   "version": "3.8.13"
  }
 },
 "nbformat": 4,
 "nbformat_minor": 5
}
