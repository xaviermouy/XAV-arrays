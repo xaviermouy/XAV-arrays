{
 "cells": [
  {
   "cell_type": "code",
   "execution_count": 1,
   "id": "e844ab6d",
   "metadata": {},
   "outputs": [],
   "source": [
    "import ecosound.core.tools\n",
    "from ecosound.core.metadata import DeploymentInfo\n",
    "from ecosound.core.audiotools import Sound\n",
    "from ecosound.core.measurement import Measurement\n",
    "import ecosound\n",
    "import os\n",
    "\n",
    "\n",
    "def process_folder(in_dir):\n",
    "    files = ecosound.core.tools.list_files(\n",
    "            in_dir,\n",
    "            \".nc\",\n",
    "            recursive=False,\n",
    "            case_sensitive=True,\n",
    "        )\n",
    "\n",
    "    first = True\n",
    "    for idx, in_file in enumerate(files):\n",
    "            #print(in_file)\n",
    "            meas = Measurement()\n",
    "            meas.from_netcdf(in_file)        \n",
    "            if first == True:\n",
    "                All = meas\n",
    "            else:\n",
    "                try:\n",
    "                    All = All + meas\n",
    "                except:\n",
    "                    print('Could not load localization')\n",
    "            first = False\n",
    "\n",
    "    outfile = os.path.join(in_dir,All.data.iloc[0]['audio_file_name']+All.data.iloc[0]['audio_file_extension'])\n",
    "    outdir = os.path.split(outfile)[0]       \n",
    "\n",
    "    All.to_netcdf(outfile+'.nc')\n",
    "    All.to_raven(outdir)"
   ]
  },
  {
   "cell_type": "code",
   "execution_count": 2,
   "id": "e1b4e171",
   "metadata": {},
   "outputs": [],
   "source": [
    "def test_files(in_dir):\n",
    "    garbage_dir = r'C:\\Users\\xavier.mouy\\Documents\\Projects\\2022_DFO_fish_catalog\\Darienne_data\\Taylor-Islet_LA_dep2\\results\\results\\garbage'\n",
    "    files = ecosound.core.tools.list_files(\n",
    "            in_dir,\n",
    "            \".nc\",\n",
    "            recursive=False,\n",
    "            case_sensitive=True,\n",
    "        )\n",
    "\n",
    "    first = True\n",
    "    for idx, in_file in enumerate(files):\n",
    "            #print(in_file)            \n",
    "            file = os.path.split(in_file)[1]\n",
    "            print(file)\n",
    "            meas = Measurement()\n",
    "            meas.from_netcdf(in_file)             \n",
    "            try:                \n",
    "                meas.to_netcdf(os.path.join(garbage_dir,file))\n",
    "                meas.to_raven(os.path.join(garbage_dir))            \n",
    "            except:\n",
    "                print(file)\n",
    "                continue"
   ]
  },
  {
   "cell_type": "code",
   "execution_count": 3,
   "id": "dca2035a",
   "metadata": {},
   "outputs": [
    {
     "name": "stdout",
     "output_type": "stream",
     "text": [
      "C:\\Users\\xavier.mouy\\Documents\\Projects\\2022_DFO_fish_catalog\\Darienne_data\\Taylor-Islet_LA_dep2\\results\\results\\tmp\\AMAR173.4.20220814T023710Z.wav\n",
      "C:\\Users\\xavier.mouy\\Documents\\Projects\\2022_DFO_fish_catalog\\Darienne_data\\Taylor-Islet_LA_dep2\\results\\results\\tmp\\AMAR173.4.20220814T180710Z.wav\n",
      "C:\\Users\\xavier.mouy\\Documents\\Projects\\2022_DFO_fish_catalog\\Darienne_data\\Taylor-Islet_LA_dep2\\results\\results\\tmp\\AMAR173.4.20220815T140710Z.wav\n",
      "C:\\Users\\xavier.mouy\\Documents\\Projects\\2022_DFO_fish_catalog\\Darienne_data\\Taylor-Islet_LA_dep2\\results\\results\\tmp\\AMAR173.4.20220815T163710Z.wav\n",
      "C:\\Users\\xavier.mouy\\Documents\\Projects\\2022_DFO_fish_catalog\\Darienne_data\\Taylor-Islet_LA_dep2\\results\\results\\tmp\\AMAR173.4.20220815T183710Z.wav\n",
      "C:\\Users\\xavier.mouy\\Documents\\Projects\\2022_DFO_fish_catalog\\Darienne_data\\Taylor-Islet_LA_dep2\\results\\results\\tmp\\AMAR173.4.20220815T200710Z.wav\n",
      "C:\\Users\\xavier.mouy\\Documents\\Projects\\2022_DFO_fish_catalog\\Darienne_data\\Taylor-Islet_LA_dep2\\results\\results\\tmp\\AMAR173.4.20220816T023710Z.wav\n",
      "C:\\Users\\xavier.mouy\\Documents\\Projects\\2022_DFO_fish_catalog\\Darienne_data\\Taylor-Islet_LA_dep2\\results\\results\\tmp\\AMAR173.4.20220816T180710Z.wav\n",
      "C:\\Users\\xavier.mouy\\Documents\\Projects\\2022_DFO_fish_catalog\\Darienne_data\\Taylor-Islet_LA_dep2\\results\\results\\tmp\\AMAR173.4.20220816T210710Z.wav\n",
      "C:\\Users\\xavier.mouy\\Documents\\Projects\\2022_DFO_fish_catalog\\Darienne_data\\Taylor-Islet_LA_dep2\\results\\results\\tmp\\AMAR173.4.20220817T020710Z.wav\n",
      "C:\\Users\\xavier.mouy\\Documents\\Projects\\2022_DFO_fish_catalog\\Darienne_data\\Taylor-Islet_LA_dep2\\results\\results\\tmp\\AMAR173.4.20220817T033710Z.wav\n",
      "C:\\Users\\xavier.mouy\\Documents\\Projects\\2022_DFO_fish_catalog\\Darienne_data\\Taylor-Islet_LA_dep2\\results\\results\\tmp\\AMAR173.4.20220817T153710Z.wav\n",
      "C:\\Users\\xavier.mouy\\Documents\\Projects\\2022_DFO_fish_catalog\\Darienne_data\\Taylor-Islet_LA_dep2\\results\\results\\tmp\\AMAR173.4.20220818T010710Z.wav\n",
      "C:\\Users\\xavier.mouy\\Documents\\Projects\\2022_DFO_fish_catalog\\Darienne_data\\Taylor-Islet_LA_dep2\\results\\results\\tmp\\AMAR173.4.20220818T030710Z.wav\n",
      "C:\\Users\\xavier.mouy\\Documents\\Projects\\2022_DFO_fish_catalog\\Darienne_data\\Taylor-Islet_LA_dep2\\results\\results\\tmp\\AMAR173.4.20220818T160710Z.wav\n",
      "C:\\Users\\xavier.mouy\\Documents\\Projects\\2022_DFO_fish_catalog\\Darienne_data\\Taylor-Islet_LA_dep2\\results\\results\\tmp\\AMAR173.4.20220819T020710Z.wav\n",
      "C:\\Users\\xavier.mouy\\Documents\\Projects\\2022_DFO_fish_catalog\\Darienne_data\\Taylor-Islet_LA_dep2\\results\\results\\tmp\\AMAR173.4.20220819T030710Z.wav\n",
      "C:\\Users\\xavier.mouy\\Documents\\Projects\\2022_DFO_fish_catalog\\Darienne_data\\Taylor-Islet_LA_dep2\\results\\results\\tmp\\AMAR173.4.20220820T020710Z.wav\n",
      "C:\\Users\\xavier.mouy\\Documents\\Projects\\2022_DFO_fish_catalog\\Darienne_data\\Taylor-Islet_LA_dep2\\results\\results\\tmp\\AMAR173.4.20220820T210710Z.wav\n"
     ]
    }
   ],
   "source": [
    "main_dir = r'C:\\Users\\xavier.mouy\\Documents\\Projects\\2022_DFO_fish_catalog\\Darienne_data\\Taylor-Islet_LA_dep2\\results\\results\\tmp'\n",
    "\n",
    "for single_dir in os.listdir(main_dir):\n",
    "    in_dir = os.path.join(main_dir,single_dir)\n",
    "    print(in_dir)\n",
    "    try:\n",
    "        process_folder(in_dir)\n",
    "        #test_files(in_dir)\n",
    "    except:\n",
    "        print('failled')"
   ]
  },
  {
   "cell_type": "code",
   "execution_count": null,
   "id": "dfd1a2f4",
   "metadata": {},
   "outputs": [],
   "source": []
  }
 ],
 "metadata": {
  "kernelspec": {
   "display_name": "Python 3 (ipykernel)",
   "language": "python",
   "name": "python3"
  },
  "language_info": {
   "codemirror_mode": {
    "name": "ipython",
    "version": 3
   },
   "file_extension": ".py",
   "mimetype": "text/x-python",
   "name": "python",
   "nbconvert_exporter": "python",
   "pygments_lexer": "ipython3",
   "version": "3.10.11"
  }
 },
 "nbformat": 4,
 "nbformat_minor": 5
}
